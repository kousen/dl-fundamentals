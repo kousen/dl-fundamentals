{
 "cells": [
  {
   "cell_type": "markdown",
   "id": "d71bce70-9dc3-448b-9f9a-8896e83b6d09",
   "metadata": {},
   "source": [
    "# 3.6 Implementing a Logistic Regression Classifier (Part 3)"
   ]
  },
  {
   "cell_type": "markdown",
   "id": "e5b48fc7-4f46-4d5a-8558-cd06892aaa27",
   "metadata": {},
   "source": [
    "## 1) Installing Libraries"
   ]
  },
  {
   "cell_type": "code",
   "id": "be1f5a9a-b3ee-424b-ab02-4371f49bd786",
   "metadata": {
    "ExecuteTime": {
     "end_time": "2025-02-06T16:48:39.768580Z",
     "start_time": "2025-02-06T16:48:39.766188Z"
    }
   },
   "source": [
    "# !conda install numpy pandas matplotlib --yes"
   ],
   "outputs": [],
   "execution_count": 1
  },
  {
   "cell_type": "code",
   "id": "1ea7b3b8-9092-4b37-8b7f-57362be611ad",
   "metadata": {
    "ExecuteTime": {
     "end_time": "2025-02-06T16:48:39.772786Z",
     "start_time": "2025-02-06T16:48:39.771284Z"
    }
   },
   "source": [
    "# !pip install torch torchvision torchaudio"
   ],
   "outputs": [],
   "execution_count": 2
  },
  {
   "cell_type": "code",
   "id": "79dd2077-ba5c-4ab5-95fc-6ee4d8a9f811",
   "metadata": {
    "ExecuteTime": {
     "end_time": "2025-02-06T16:48:39.835338Z",
     "start_time": "2025-02-06T16:48:39.834034Z"
    }
   },
   "source": [
    "# !conda install watermark"
   ],
   "outputs": [],
   "execution_count": 3
  },
  {
   "cell_type": "code",
   "id": "bc4fa295-5c62-4888-bcf8-d07d6a7afc47",
   "metadata": {
    "ExecuteTime": {
     "end_time": "2025-02-06T16:48:40.391467Z",
     "start_time": "2025-02-06T16:48:39.838727Z"
    }
   },
   "source": [
    "%load_ext watermark\n",
    "%watermark -v -p numpy,pandas,matplotlib,torch"
   ],
   "outputs": [
    {
     "name": "stdout",
     "output_type": "stream",
     "text": [
      "Python implementation: CPython\n",
      "Python version       : 3.11.9\n",
      "IPython version      : 8.31.0\n",
      "\n",
      "numpy     : 2.2.1\n",
      "pandas    : 2.2.3\n",
      "matplotlib: 3.10.0\n",
      "torch     : 2.5.1\n",
      "\n"
     ]
    }
   ],
   "execution_count": 4
  },
  {
   "cell_type": "markdown",
   "id": "b9549676-2fa5-41a7-bbb9-ce03f5797c34",
   "metadata": {},
   "source": [
    "## 2) Loading the Dataset"
   ]
  },
  {
   "cell_type": "code",
   "id": "f609024c-3eae-4ad5-8cb8-b95b403b7606",
   "metadata": {
    "ExecuteTime": {
     "end_time": "2025-02-06T16:48:40.401091Z",
     "start_time": "2025-02-06T16:48:40.395442Z"
    }
   },
   "source": [
    "import pandas as pd\n",
    "\n",
    "df = pd.read_csv(\"perceptron_toydata-truncated.txt\", sep=\"\\t\")\n",
    "df"
   ],
   "outputs": [
    {
     "data": {
      "text/plain": [
       "      x1    x2  label\n",
       "0   0.77 -1.14      0\n",
       "1  -0.33  1.44      0\n",
       "2   0.91 -3.07      0\n",
       "3  -0.37 -1.91      0\n",
       "4  -0.63 -1.53      0\n",
       "5   0.39 -1.99      0\n",
       "6  -0.49 -2.74      0\n",
       "7  -0.68 -1.52      0\n",
       "8  -0.10 -3.43      0\n",
       "9  -0.05 -1.95      0\n",
       "10  3.88  0.65      1\n",
       "11  0.73  2.97      1\n",
       "12  0.83  3.94      1\n",
       "13  1.59  1.25      1\n",
       "14  1.14  3.91      1\n",
       "15  1.73  2.80      1\n",
       "16  1.31  1.85      1\n",
       "17  1.56  3.85      1\n",
       "18  1.23  2.54      1\n",
       "19  1.33  2.03      1"
      ],
      "text/html": [
       "<div>\n",
       "<style scoped>\n",
       "    .dataframe tbody tr th:only-of-type {\n",
       "        vertical-align: middle;\n",
       "    }\n",
       "\n",
       "    .dataframe tbody tr th {\n",
       "        vertical-align: top;\n",
       "    }\n",
       "\n",
       "    .dataframe thead th {\n",
       "        text-align: right;\n",
       "    }\n",
       "</style>\n",
       "<table border=\"1\" class=\"dataframe\">\n",
       "  <thead>\n",
       "    <tr style=\"text-align: right;\">\n",
       "      <th></th>\n",
       "      <th>x1</th>\n",
       "      <th>x2</th>\n",
       "      <th>label</th>\n",
       "    </tr>\n",
       "  </thead>\n",
       "  <tbody>\n",
       "    <tr>\n",
       "      <th>0</th>\n",
       "      <td>0.77</td>\n",
       "      <td>-1.14</td>\n",
       "      <td>0</td>\n",
       "    </tr>\n",
       "    <tr>\n",
       "      <th>1</th>\n",
       "      <td>-0.33</td>\n",
       "      <td>1.44</td>\n",
       "      <td>0</td>\n",
       "    </tr>\n",
       "    <tr>\n",
       "      <th>2</th>\n",
       "      <td>0.91</td>\n",
       "      <td>-3.07</td>\n",
       "      <td>0</td>\n",
       "    </tr>\n",
       "    <tr>\n",
       "      <th>3</th>\n",
       "      <td>-0.37</td>\n",
       "      <td>-1.91</td>\n",
       "      <td>0</td>\n",
       "    </tr>\n",
       "    <tr>\n",
       "      <th>4</th>\n",
       "      <td>-0.63</td>\n",
       "      <td>-1.53</td>\n",
       "      <td>0</td>\n",
       "    </tr>\n",
       "    <tr>\n",
       "      <th>5</th>\n",
       "      <td>0.39</td>\n",
       "      <td>-1.99</td>\n",
       "      <td>0</td>\n",
       "    </tr>\n",
       "    <tr>\n",
       "      <th>6</th>\n",
       "      <td>-0.49</td>\n",
       "      <td>-2.74</td>\n",
       "      <td>0</td>\n",
       "    </tr>\n",
       "    <tr>\n",
       "      <th>7</th>\n",
       "      <td>-0.68</td>\n",
       "      <td>-1.52</td>\n",
       "      <td>0</td>\n",
       "    </tr>\n",
       "    <tr>\n",
       "      <th>8</th>\n",
       "      <td>-0.10</td>\n",
       "      <td>-3.43</td>\n",
       "      <td>0</td>\n",
       "    </tr>\n",
       "    <tr>\n",
       "      <th>9</th>\n",
       "      <td>-0.05</td>\n",
       "      <td>-1.95</td>\n",
       "      <td>0</td>\n",
       "    </tr>\n",
       "    <tr>\n",
       "      <th>10</th>\n",
       "      <td>3.88</td>\n",
       "      <td>0.65</td>\n",
       "      <td>1</td>\n",
       "    </tr>\n",
       "    <tr>\n",
       "      <th>11</th>\n",
       "      <td>0.73</td>\n",
       "      <td>2.97</td>\n",
       "      <td>1</td>\n",
       "    </tr>\n",
       "    <tr>\n",
       "      <th>12</th>\n",
       "      <td>0.83</td>\n",
       "      <td>3.94</td>\n",
       "      <td>1</td>\n",
       "    </tr>\n",
       "    <tr>\n",
       "      <th>13</th>\n",
       "      <td>1.59</td>\n",
       "      <td>1.25</td>\n",
       "      <td>1</td>\n",
       "    </tr>\n",
       "    <tr>\n",
       "      <th>14</th>\n",
       "      <td>1.14</td>\n",
       "      <td>3.91</td>\n",
       "      <td>1</td>\n",
       "    </tr>\n",
       "    <tr>\n",
       "      <th>15</th>\n",
       "      <td>1.73</td>\n",
       "      <td>2.80</td>\n",
       "      <td>1</td>\n",
       "    </tr>\n",
       "    <tr>\n",
       "      <th>16</th>\n",
       "      <td>1.31</td>\n",
       "      <td>1.85</td>\n",
       "      <td>1</td>\n",
       "    </tr>\n",
       "    <tr>\n",
       "      <th>17</th>\n",
       "      <td>1.56</td>\n",
       "      <td>3.85</td>\n",
       "      <td>1</td>\n",
       "    </tr>\n",
       "    <tr>\n",
       "      <th>18</th>\n",
       "      <td>1.23</td>\n",
       "      <td>2.54</td>\n",
       "      <td>1</td>\n",
       "    </tr>\n",
       "    <tr>\n",
       "      <th>19</th>\n",
       "      <td>1.33</td>\n",
       "      <td>2.03</td>\n",
       "      <td>1</td>\n",
       "    </tr>\n",
       "  </tbody>\n",
       "</table>\n",
       "</div>"
      ]
     },
     "execution_count": 5,
     "metadata": {},
     "output_type": "execute_result"
    }
   ],
   "execution_count": 5
  },
  {
   "cell_type": "code",
   "id": "319546d0-e9ed-4542-873e-395edc05ef2f",
   "metadata": {
    "ExecuteTime": {
     "end_time": "2025-02-06T16:48:40.425332Z",
     "start_time": "2025-02-06T16:48:40.423223Z"
    }
   },
   "source": [
    "X_train = df[[\"x1\", \"x2\"]].values\n",
    "y_train = df[\"label\"].values"
   ],
   "outputs": [],
   "execution_count": 6
  },
  {
   "cell_type": "code",
   "id": "71792068-9926-41bb-81c0-2a46f6e956fc",
   "metadata": {
    "ExecuteTime": {
     "end_time": "2025-02-06T16:48:40.446070Z",
     "start_time": "2025-02-06T16:48:40.444059Z"
    }
   },
   "source": [
    "X_train"
   ],
   "outputs": [
    {
     "data": {
      "text/plain": [
       "array([[ 0.77, -1.14],\n",
       "       [-0.33,  1.44],\n",
       "       [ 0.91, -3.07],\n",
       "       [-0.37, -1.91],\n",
       "       [-0.63, -1.53],\n",
       "       [ 0.39, -1.99],\n",
       "       [-0.49, -2.74],\n",
       "       [-0.68, -1.52],\n",
       "       [-0.1 , -3.43],\n",
       "       [-0.05, -1.95],\n",
       "       [ 3.88,  0.65],\n",
       "       [ 0.73,  2.97],\n",
       "       [ 0.83,  3.94],\n",
       "       [ 1.59,  1.25],\n",
       "       [ 1.14,  3.91],\n",
       "       [ 1.73,  2.8 ],\n",
       "       [ 1.31,  1.85],\n",
       "       [ 1.56,  3.85],\n",
       "       [ 1.23,  2.54],\n",
       "       [ 1.33,  2.03]])"
      ]
     },
     "execution_count": 7,
     "metadata": {},
     "output_type": "execute_result"
    }
   ],
   "execution_count": 7
  },
  {
   "cell_type": "code",
   "id": "f2571853-0be0-48b2-9985-8a6021d01276",
   "metadata": {
    "ExecuteTime": {
     "end_time": "2025-02-06T16:48:40.478234Z",
     "start_time": "2025-02-06T16:48:40.476466Z"
    }
   },
   "source": [
    "X_train.shape"
   ],
   "outputs": [
    {
     "data": {
      "text/plain": [
       "(20, 2)"
      ]
     },
     "execution_count": 8,
     "metadata": {},
     "output_type": "execute_result"
    }
   ],
   "execution_count": 8
  },
  {
   "cell_type": "code",
   "id": "3a5e5ffb-1bca-4f1b-b4cf-a78be1b07753",
   "metadata": {
    "ExecuteTime": {
     "end_time": "2025-02-06T16:48:40.508888Z",
     "start_time": "2025-02-06T16:48:40.507042Z"
    }
   },
   "source": [
    "y_train"
   ],
   "outputs": [
    {
     "data": {
      "text/plain": [
       "array([0, 0, 0, 0, 0, 0, 0, 0, 0, 0, 1, 1, 1, 1, 1, 1, 1, 1, 1, 1])"
      ]
     },
     "execution_count": 9,
     "metadata": {},
     "output_type": "execute_result"
    }
   ],
   "execution_count": 9
  },
  {
   "cell_type": "code",
   "id": "68bfbbf9-4fed-4111-8391-15f2b338d8b4",
   "metadata": {
    "ExecuteTime": {
     "end_time": "2025-02-06T16:48:40.523306Z",
     "start_time": "2025-02-06T16:48:40.521456Z"
    }
   },
   "source": [
    "y_train.shape"
   ],
   "outputs": [
    {
     "data": {
      "text/plain": [
       "(20,)"
      ]
     },
     "execution_count": 10,
     "metadata": {},
     "output_type": "execute_result"
    }
   ],
   "execution_count": 10
  },
  {
   "cell_type": "code",
   "id": "b6800df4-98f6-401e-bb6c-9964c3b6e3cb",
   "metadata": {
    "ExecuteTime": {
     "end_time": "2025-02-06T16:48:40.537250Z",
     "start_time": "2025-02-06T16:48:40.535367Z"
    }
   },
   "source": [
    "import numpy as np\n",
    "\n",
    "np.bincount(y_train)"
   ],
   "outputs": [
    {
     "data": {
      "text/plain": [
       "array([10, 10])"
      ]
     },
     "execution_count": 11,
     "metadata": {},
     "output_type": "execute_result"
    }
   ],
   "execution_count": 11
  },
  {
   "cell_type": "markdown",
   "id": "fc4663a6-e8a7-472e-b9b0-c64f546a85e9",
   "metadata": {},
   "source": [
    "## 3) Visualizing the dataset"
   ]
  },
  {
   "cell_type": "code",
   "id": "36a879c3-0c84-4476-a79a-f41d897c696a",
   "metadata": {
    "ExecuteTime": {
     "end_time": "2025-02-06T16:48:40.659326Z",
     "start_time": "2025-02-06T16:48:40.542594Z"
    }
   },
   "source": [
    "%matplotlib inline\n",
    "import matplotlib.pyplot as plt"
   ],
   "outputs": [],
   "execution_count": 12
  },
  {
   "cell_type": "code",
   "id": "bd31bb2e-5699-43d4-8874-38e9307ce853",
   "metadata": {
    "ExecuteTime": {
     "end_time": "2025-02-06T16:48:40.728715Z",
     "start_time": "2025-02-06T16:48:40.663744Z"
    }
   },
   "source": [
    "plt.plot(\n",
    "    X_train[y_train == 0, 0],\n",
    "    X_train[y_train == 0, 1],\n",
    "    marker=\"D\",\n",
    "    markersize=10,\n",
    "    linestyle=\"\",\n",
    "    label=\"Class 0\",\n",
    ")\n",
    "\n",
    "plt.plot(\n",
    "    X_train[y_train == 1, 0],\n",
    "    X_train[y_train == 1, 1],\n",
    "    marker=\"^\",\n",
    "    markersize=13,\n",
    "    linestyle=\"\",\n",
    "    label=\"Class 1\",\n",
    ")\n",
    "\n",
    "plt.legend(loc=2)\n",
    "\n",
    "plt.xlim([-5, 5])\n",
    "plt.ylim([-5, 5])\n",
    "\n",
    "plt.xlabel(\"Feature $x_1$\", fontsize=12)\n",
    "plt.ylabel(\"Feature $x_2$\", fontsize=12)\n",
    "\n",
    "plt.grid()\n",
    "plt.show()"
   ],
   "outputs": [
    {
     "data": {
      "text/plain": [
       "<Figure size 640x480 with 1 Axes>"
      ],
      "image/png": "[encoded data removed]"
     },
     "metadata": {},
     "output_type": "display_data"
    }
   ],
   "execution_count": 13
  },
  {
   "cell_type": "code",
   "id": "56e353d0-f75d-4267-8b41-68433780d590",
   "metadata": {
    "ExecuteTime": {
     "end_time": "2025-02-06T16:48:40.734646Z",
     "start_time": "2025-02-06T16:48:40.733031Z"
    }
   },
   "source": [
    "X_train = (X_train - X_train.mean(axis=0)) / X_train.std(axis=0)"
   ],
   "outputs": [],
   "execution_count": 14
  },
  {
   "cell_type": "code",
   "id": "295f3b29-2b8e-4280-8f25-92b4429002d2",
   "metadata": {
    "ExecuteTime": {
     "end_time": "2025-02-06T16:48:40.768769Z",
     "start_time": "2025-02-06T16:48:40.739008Z"
    }
   },
   "source": [
    "plt.plot(\n",
    "    X_train[y_train == 0, 0],\n",
    "    X_train[y_train == 0, 1],\n",
    "    marker=\"D\",\n",
    "    markersize=10,\n",
    "    linestyle=\"\",\n",
    "    label=\"Class 0\",\n",
    ")\n",
    "\n",
    "plt.plot(\n",
    "    X_train[y_train == 1, 0],\n",
    "    X_train[y_train == 1, 1],\n",
    "    marker=\"^\",\n",
    "    markersize=13,\n",
    "    linestyle=\"\",\n",
    "    label=\"Class 1\",\n",
    ")\n",
    "\n",
    "plt.legend(loc=2)\n",
    "\n",
    "plt.xlim([-5, 5])\n",
    "plt.ylim([-5, 5])\n",
    "\n",
    "plt.xlabel(\"Feature $x_1$\", fontsize=12)\n",
    "plt.ylabel(\"Feature $x_2$\", fontsize=12)\n",
    "\n",
    "plt.grid()\n",
    "plt.show()"
   ],
   "outputs": [
    {
     "data": {
      "text/plain": [
       "<Figure size 640x480 with 1 Axes>"
      ],
      "image/png": "[encoded data removed]"
     },
     "metadata": {},
     "output_type": "display_data"
    }
   ],
   "execution_count": 15
  },
  {
   "cell_type": "markdown",
   "id": "db50db02-3696-4f86-b149-74baabeec6c4",
   "metadata": {},
   "source": [
    "## 4) Implementing the model"
   ]
  },
  {
   "cell_type": "code",
   "id": "3da86d9a-7cd5-467c-bf65-3388fe272bd5",
   "metadata": {
    "ExecuteTime": {
     "end_time": "2025-02-06T16:48:40.775195Z",
     "start_time": "2025-02-06T16:48:40.773386Z"
    }
   },
   "source": [
    "import torch\n",
    "\n",
    "class LogisticRegression(torch.nn.Module):\n",
    "    \n",
    "    def __init__(self, num_features):\n",
    "        super().__init__()\n",
    "        self.linear = torch.nn.Linear(num_features, 1)\n",
    "    \n",
    "    def forward(self, x):\n",
    "        logits = self.linear(x)\n",
    "        probas = torch.sigmoid(logits)\n",
    "        return probas"
   ],
   "outputs": [],
   "execution_count": 16
  },
  {
   "cell_type": "code",
   "id": "e88b360e-c33c-4724-b46f-58323a9a7628",
   "metadata": {
    "ExecuteTime": {
     "end_time": "2025-02-06T16:48:40.787822Z",
     "start_time": "2025-02-06T16:48:40.785354Z"
    }
   },
   "source": [
    "torch.manual_seed(1)\n",
    "\n",
    "model = LogisticRegression(num_features=2)"
   ],
   "outputs": [],
   "execution_count": 17
  },
  {
   "cell_type": "code",
   "id": "f2923ae0-cf24-4252-bd19-cc326a39bc72",
   "metadata": {
    "ExecuteTime": {
     "end_time": "2025-02-06T16:48:40.794511Z",
     "start_time": "2025-02-06T16:48:40.792067Z"
    }
   },
   "source": [
    "x = torch.tensor([1.1, 2.1])\n",
    "\n",
    "with torch.no_grad():\n",
    "    proba = model(x)\n",
    "    \n",
    "print(proba)"
   ],
   "outputs": [
    {
     "name": "stdout",
     "output_type": "stream",
     "text": [
      "tensor([0.4033])\n"
     ]
    }
   ],
   "execution_count": 18
  },
  {
   "cell_type": "markdown",
   "id": "12068721-daf9-4ea1-9240-5bcc19c75ce9",
   "metadata": {},
   "source": [
    "## 5) Defining a DataLoader"
   ]
  },
  {
   "cell_type": "code",
   "id": "f6376d80-e7cf-43b4-96eb-bfd99709b63a",
   "metadata": {
    "ExecuteTime": {
     "end_time": "2025-02-06T16:48:40.806984Z",
     "start_time": "2025-02-06T16:48:40.804791Z"
    }
   },
   "source": [
    "from torch.utils.data import Dataset, DataLoader\n",
    "\n",
    "\n",
    "class MyDataset(Dataset):\n",
    "    def __init__(self, X, y):\n",
    "\n",
    "        self.features = torch.tensor(X, dtype=torch.float32)\n",
    "        self.labels = torch.tensor(y, dtype=torch.float32)\n",
    "\n",
    "    def __getitem__(self, index):\n",
    "        x = self.features[index]\n",
    "        y = self.labels[index]        \n",
    "        return x, y\n",
    "\n",
    "    def __len__(self):\n",
    "        return self.labels.shape[0]\n",
    "    \n",
    "\n",
    "train_ds = MyDataset(X_train, y_train)\n",
    "\n",
    "train_loader = DataLoader(\n",
    "    dataset=train_ds,\n",
    "    batch_size=10,\n",
    "    shuffle=True,\n",
    ")"
   ],
   "outputs": [],
   "execution_count": 19
  },
  {
   "cell_type": "code",
   "id": "b64f8926-930c-4945-950a-31083608ea7e",
   "metadata": {
    "ExecuteTime": {
     "end_time": "2025-02-06T16:48:40.816021Z",
     "start_time": "2025-02-06T16:48:40.814117Z"
    }
   },
   "source": [
    "X_train.shape"
   ],
   "outputs": [
    {
     "data": {
      "text/plain": [
       "(20, 2)"
      ]
     },
     "execution_count": 20,
     "metadata": {},
     "output_type": "execute_result"
    }
   ],
   "execution_count": 20
  },
  {
   "cell_type": "markdown",
   "id": "46bc16a0-ec59-4c54-a209-0a5e22406287",
   "metadata": {},
   "source": [
    "## 6) The training loop"
   ]
  },
  {
   "cell_type": "code",
   "id": "3dcaa2b1-4019-4128-9ff5-6a966c3abdf2",
   "metadata": {
    "ExecuteTime": {
     "end_time": "2025-02-06T16:48:41.102767Z",
     "start_time": "2025-02-06T16:48:40.824784Z"
    }
   },
   "source": [
    "import torch.nn.functional as F\n",
    "\n",
    "\n",
    "torch.manual_seed(1)\n",
    "model = LogisticRegression(num_features=2)\n",
    "optimizer = torch.optim.SGD(model.parameters(), lr=0.05)\n",
    "\n",
    "num_epochs = 20\n",
    "\n",
    "for epoch in range(num_epochs):\n",
    "    \n",
    "    model = model.train()\n",
    "    for batch_idx, (features, class_labels) in enumerate(train_loader):\n",
    "\n",
    "        probas = model(features)\n",
    "        \n",
    "        loss = F.binary_cross_entropy(probas, class_labels.view(probas.shape))\n",
    "        \n",
    "        optimizer.zero_grad()\n",
    "        loss.backward()\n",
    "        optimizer.step()\n",
    "        \n",
    "        ### LOGGING\n",
    "        print(f'Epoch: {epoch+1:03d}/{num_epochs:03d}'\n",
    "               f' | Batch {batch_idx:03d}/{len(train_loader):03d}'\n",
    "               f' | Loss: {loss:.2f}')\n",
    "            "
   ],
   "outputs": [
    {
     "name": "stdout",
     "output_type": "stream",
     "text": [
      "Epoch: 001/020 | Batch 000/002 | Loss: 0.67\n",
      "Epoch: 001/020 | Batch 001/002 | Loss: 0.73\n",
      "Epoch: 002/020 | Batch 000/002 | Loss: 0.67\n",
      "Epoch: 002/020 | Batch 001/002 | Loss: 0.67\n",
      "Epoch: 003/020 | Batch 000/002 | Loss: 0.60\n",
      "Epoch: 003/020 | Batch 001/002 | Loss: 0.68\n",
      "Epoch: 004/020 | Batch 000/002 | Loss: 0.69\n",
      "Epoch: 004/020 | Batch 001/002 | Loss: 0.54\n",
      "Epoch: 005/020 | Batch 000/002 | Loss: 0.61\n",
      "Epoch: 005/020 | Batch 001/002 | Loss: 0.57\n",
      "Epoch: 006/020 | Batch 000/002 | Loss: 0.59\n",
      "Epoch: 006/020 | Batch 001/002 | Loss: 0.54\n",
      "Epoch: 007/020 | Batch 000/002 | Loss: 0.51\n",
      "Epoch: 007/020 | Batch 001/002 | Loss: 0.58\n",
      "Epoch: 008/020 | Batch 000/002 | Loss: 0.51\n",
      "Epoch: 008/020 | Batch 001/002 | Loss: 0.54\n",
      "Epoch: 009/020 | Batch 000/002 | Loss: 0.51\n",
      "Epoch: 009/020 | Batch 001/002 | Loss: 0.49\n",
      "Epoch: 010/020 | Batch 000/002 | Loss: 0.53\n",
      "Epoch: 010/020 | Batch 001/002 | Loss: 0.44\n",
      "Epoch: 011/020 | Batch 000/002 | Loss: 0.42\n",
      "Epoch: 011/020 | Batch 001/002 | Loss: 0.52\n",
      "Epoch: 012/020 | Batch 000/002 | Loss: 0.46\n",
      "Epoch: 012/020 | Batch 001/002 | Loss: 0.44\n",
      "Epoch: 013/020 | Batch 000/002 | Loss: 0.46\n",
      "Epoch: 013/020 | Batch 001/002 | Loss: 0.42\n",
      "Epoch: 014/020 | Batch 000/002 | Loss: 0.41\n",
      "Epoch: 014/020 | Batch 001/002 | Loss: 0.43\n",
      "Epoch: 015/020 | Batch 000/002 | Loss: 0.43\n",
      "Epoch: 015/020 | Batch 001/002 | Loss: 0.39\n",
      "Epoch: 016/020 | Batch 000/002 | Loss: 0.41\n",
      "Epoch: 016/020 | Batch 001/002 | Loss: 0.39\n",
      "Epoch: 017/020 | Batch 000/002 | Loss: 0.38\n",
      "Epoch: 017/020 | Batch 001/002 | Loss: 0.39\n",
      "Epoch: 018/020 | Batch 000/002 | Loss: 0.44\n",
      "Epoch: 018/020 | Batch 001/002 | Loss: 0.31\n",
      "Epoch: 019/020 | Batch 000/002 | Loss: 0.34\n",
      "Epoch: 019/020 | Batch 001/002 | Loss: 0.39\n",
      "Epoch: 020/020 | Batch 000/002 | Loss: 0.33\n",
      "Epoch: 020/020 | Batch 001/002 | Loss: 0.38\n"
     ]
    }
   ],
   "execution_count": 21
  },
  {
   "cell_type": "markdown",
   "id": "bb0d5821-7c8d-46b5-9e7d-02e72cac2acc",
   "metadata": {},
   "source": [
    "## 7) Evaluating the results"
   ]
  },
  {
   "cell_type": "code",
   "id": "de622a50-f406-4a36-a216-1023951502fc",
   "metadata": {
    "ExecuteTime": {
     "end_time": "2025-02-06T16:48:41.107105Z",
     "start_time": "2025-02-06T16:48:41.104784Z"
    }
   },
   "source": [
    "probas"
   ],
   "outputs": [
    {
     "data": {
      "text/plain": [
       "tensor([[0.6687],\n",
       "        [0.6810],\n",
       "        [0.2162],\n",
       "        [0.7398],\n",
       "        [0.2126],\n",
       "        [0.5744],\n",
       "        [0.3209],\n",
       "        [0.6503],\n",
       "        [0.4276],\n",
       "        [0.2598]], grad_fn=<SigmoidBackward0>)"
      ]
     },
     "execution_count": 22,
     "metadata": {},
     "output_type": "execute_result"
    }
   ],
   "execution_count": 22
  },
  {
   "cell_type": "code",
   "id": "530d69a2-e428-4c8c-b9e9-a4da5238b90e",
   "metadata": {
    "ExecuteTime": {
     "end_time": "2025-02-06T16:48:41.130443Z",
     "start_time": "2025-02-06T16:48:41.128073Z"
    }
   },
   "source": [
    "pred = torch.where(probas > 0.5, 1, 0)\n",
    "pred"
   ],
   "outputs": [
    {
     "data": {
      "text/plain": [
       "tensor([[1],\n",
       "        [1],\n",
       "        [0],\n",
       "        [1],\n",
       "        [0],\n",
       "        [1],\n",
       "        [0],\n",
       "        [1],\n",
       "        [0],\n",
       "        [0]])"
      ]
     },
     "execution_count": 23,
     "metadata": {},
     "output_type": "execute_result"
    }
   ],
   "execution_count": 23
  },
  {
   "cell_type": "code",
   "id": "126754f3-bfed-4c95-ab14-82be9c07bbea",
   "metadata": {
    "ExecuteTime": {
     "end_time": "2025-02-06T16:48:41.137681Z",
     "start_time": "2025-02-06T16:48:41.135554Z"
    }
   },
   "source": [
    "class_labels.view(pred.shape).to(pred.dtype)"
   ],
   "outputs": [
    {
     "data": {
      "text/plain": [
       "tensor([[1],\n",
       "        [1],\n",
       "        [0],\n",
       "        [1],\n",
       "        [0],\n",
       "        [1],\n",
       "        [0],\n",
       "        [1],\n",
       "        [0],\n",
       "        [0]])"
      ]
     },
     "execution_count": 24,
     "metadata": {},
     "output_type": "execute_result"
    }
   ],
   "execution_count": 24
  },
  {
   "cell_type": "code",
   "id": "d910ddbb-798f-47ab-8aab-e2dba4aa4005",
   "metadata": {
    "ExecuteTime": {
     "end_time": "2025-02-06T16:48:41.184258Z",
     "start_time": "2025-02-06T16:48:41.182028Z"
    }
   },
   "source": [
    "def compute_accuracy(model, dataloader):\n",
    "\n",
    "    model = model.eval()\n",
    "    \n",
    "    correct = 0.0\n",
    "    total_examples = 0\n",
    "    \n",
    "    for idx, (features, class_labels) in enumerate(dataloader):\n",
    "        \n",
    "        with torch.no_grad():\n",
    "            probas = model(features)\n",
    "        \n",
    "        pred = torch.where(probas > 0.5, 1, 0)\n",
    "        lab = class_labels.view(pred.shape).to(pred.dtype)\n",
    "\n",
    "        compare = lab == pred\n",
    "        correct += torch.sum(compare)\n",
    "        total_examples += len(compare)\n",
    "\n",
    "    return correct / total_examples"
   ],
   "outputs": [],
   "execution_count": 25
  },
  {
   "cell_type": "code",
   "id": "27538c8d-61bc-47b0-8289-b6aab4aa16ed",
   "metadata": {
    "ExecuteTime": {
     "end_time": "2025-02-06T16:54:26.590672Z",
     "start_time": "2025-02-06T16:54:26.586917Z"
    }
   },
   "source": [
    "train_acc = compute_accuracy(model, train_loader)"
   ],
   "outputs": [],
   "execution_count": 31
  },
  {
   "cell_type": "code",
   "id": "5a4ecf35-4745-43a8-8ea8-14f71cba5b59",
   "metadata": {
    "ExecuteTime": {
     "end_time": "2025-02-06T16:54:30.511282Z",
     "start_time": "2025-02-06T16:54:30.509241Z"
    }
   },
   "source": [
    "print(f\"Accuracy: {train_acc*100}%\")"
   ],
   "outputs": [
    {
     "name": "stdout",
     "output_type": "stream",
     "text": [
      "Accuracy: 100.0%\n"
     ]
    }
   ],
   "execution_count": 32
  },
  {
   "cell_type": "markdown",
   "id": "fbcd412a-02c0-4d2c-835e-4b01368f53f8",
   "metadata": {},
   "source": [
    "## 8) Optional: visualizing the decision boundary"
   ]
  },
  {
   "cell_type": "code",
   "id": "a76bb67c-358c-4e91-a5c7-5456333827aa",
   "metadata": {
    "ExecuteTime": {
     "end_time": "2025-02-06T16:54:38.854320Z",
     "start_time": "2025-02-06T16:54:38.810859Z"
    }
   },
   "source": [
    "plt.plot(\n",
    "    X_train[y_train == 0, 0],\n",
    "    X_train[y_train == 0, 1],\n",
    "    marker=\"D\",\n",
    "    markersize=10,\n",
    "    linestyle=\"\",\n",
    "    label=\"Class 0\",\n",
    ")\n",
    "\n",
    "plt.plot(\n",
    "    X_train[y_train == 1, 0],\n",
    "    X_train[y_train == 1, 1],\n",
    "    marker=\"^\",\n",
    "    markersize=13,\n",
    "    linestyle=\"\",\n",
    "    label=\"Class 1\",\n",
    ")\n",
    "\n",
    "plt.legend(loc=2)\n",
    "\n",
    "plt.xlim([-5, 5])\n",
    "plt.ylim([-5, 5])\n",
    "\n",
    "plt.xlabel(\"Feature $x_1$\", fontsize=12)\n",
    "plt.ylabel(\"Feature $x_2$\", fontsize=12)\n",
    "\n",
    "plt.grid()\n",
    "plt.show()"
   ],
   "outputs": [
    {
     "data": {
      "text/plain": [
       "<Figure size 640x480 with 1 Axes>"
      ],
      "image/png": "[encoded data removed]"
     },
     "metadata": {},
     "output_type": "display_data"
    }
   ],
   "execution_count": 33
  },
  {
   "cell_type": "code",
   "id": "5d9f1813-d232-4a7d-aebc-cfd5303fae48",
   "metadata": {
    "ExecuteTime": {
     "end_time": "2025-02-06T16:54:43.079132Z",
     "start_time": "2025-02-06T16:54:43.076458Z"
    }
   },
   "source": [
    "def plot_boundary(model):\n",
    "\n",
    "    w1 = model.linear.weight[0][0].detach()\n",
    "    w2 = model.linear.weight[0][1].detach()\n",
    "    b = model.linear.bias[0].detach()\n",
    "\n",
    "    x1_min = -20\n",
    "    x2_min = (-(w1 * x1_min) - b) / w2\n",
    "\n",
    "    x1_max = 20\n",
    "    x2_max = (-(w1 * x1_max) - b) / w2\n",
    "\n",
    "    return x1_min, x1_max, x2_min, x2_max"
   ],
   "outputs": [],
   "execution_count": 34
  },
  {
   "cell_type": "code",
   "id": "2d71b5df-dd8d-41d5-b6fd-640d6f40d5a2",
   "metadata": {
    "ExecuteTime": {
     "end_time": "2025-02-06T16:54:45.813382Z",
     "start_time": "2025-02-06T16:54:45.771128Z"
    }
   },
   "source": [
    "x1_min, x1_max, x2_min, x2_max = plot_boundary(model)\n",
    "\n",
    "\n",
    "plt.plot(\n",
    "    X_train[y_train == 0, 0],\n",
    "    X_train[y_train == 0, 1],\n",
    "    marker=\"D\",\n",
    "    markersize=10,\n",
    "    linestyle=\"\",\n",
    "    label=\"Class 0\",\n",
    ")\n",
    "\n",
    "plt.plot(\n",
    "    X_train[y_train == 1, 0],\n",
    "    X_train[y_train == 1, 1],\n",
    "    marker=\"^\",\n",
    "    markersize=13,\n",
    "    linestyle=\"\",\n",
    "    label=\"Class 1\",\n",
    ")\n",
    "\n",
    "plt.plot([x1_min, x1_max], [x2_min, x2_max], color=\"k\")\n",
    "\n",
    "plt.legend(loc=2)\n",
    "\n",
    "plt.xlim([-5, 5])\n",
    "plt.ylim([-5, 5])\n",
    "\n",
    "plt.xlabel(\"Feature $x_1$\", fontsize=12)\n",
    "plt.ylabel(\"Feature $x_2$\", fontsize=12)\n",
    "\n",
    "plt.grid()\n",
    "plt.show()"
   ],
   "outputs": [
    {
     "data": {
      "text/plain": [
       "<Figure size 640x480 with 1 Axes>"
      ],
      "image/png": "[encoded data removed]"
     },
     "metadata": {},
     "output_type": "display_data"
    }
   ],
   "execution_count": 35
  }
 ],
 "metadata": {
  "kernelspec": {
   "display_name": "Python 3 (ipykernel)",
   "language": "python",
   "name": "python3"
  },
  "language_info": {
   "codemirror_mode": {
    "name": "ipython",
    "version": 3
   },
   "file_extension": ".py",
   "mimetype": "text/x-python",
   "name": "python",
   "nbconvert_exporter": "python",
   "pygments_lexer": "ipython3",
   "version": "3.9.7"
  }
 },
 "nbformat": 4,
 "nbformat_minor": 5
}
